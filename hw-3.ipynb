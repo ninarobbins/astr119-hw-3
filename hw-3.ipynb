{
 "cells": [
  {
   "cell_type": "code",
   "execution_count": null,
   "metadata": {},
   "outputs": [],
   "source": [
    "%matplotlib inline\n",
    "import matplotlib.pyplot as plt\n",
    "import numpy as np"
   ]
  },
  {
   "cell_type": "markdown",
   "metadata": {},
   "source": [
    "Define a function for which we want to find the root"
   ]
  },
  {
   "cell_type": "code",
   "execution_count": null,
   "metadata": {},
   "outputs": [],
   "source": [
    "def function(x):\n",
    "        \n",
    "    a = 1.01\n",
    "    b = -3.04\n",
    "    c = 2.07\n",
    "    \n",
    "    return a*x**2 + b*x + c"
   ]
  },
  {
   "cell_type": "markdown",
   "metadata": {},
   "source": [
    "We check if our initial values are valid o begin the search (limits must contain zero crossing)"
   ]
  },
  {
   "cell_type": "code",
   "execution_count": null,
   "metadata": {},
   "outputs": [],
   "source": [
    "def check_initial_value(f, xmin, xmax, tol):\n",
    "\n",
    "    ymin = f(xmin)\n",
    "    ymax = f(xmax)\n",
    "    \n",
    "    if (ymin*ymax >= 0):\n",
    "        raise ValueError('Invalid initial values') \n",
    "        print('No zero crossing found in the range = ', xmin, xmax)\n",
    "        s = 'f(%f) = %f, f(%f) = %f' % (xmin,ymin,xmax,ymax)\n",
    "        print(s) \n",
    "        \n",
    "    elif (np.fabs(ymin) < tol):\n",
    "        return xmin, ymin\n",
    "    \n",
    "    elif (np.fabs(ymax) < tol):\n",
    "         return xmax, ymax\n"
   ]
  },
  {
   "cell_type": "markdown",
   "metadata": {},
   "source": [
    "Start the search"
   ]
  },
  {
   "cell_type": "code",
   "execution_count": null,
   "metadata": {},
   "outputs": [],
   "source": [
    "def bisection_root_finding(f, xmin_initial, xmax_initial, tol):\n",
    "    \n",
    "    xmin = xmin_initial\n",
    "    xmax = xmax_initial\n",
    "    xmid = 0.0\n",
    "    \n",
    "    ymin = f(xmin)\n",
    "    ymax = f(xmax)\n",
    "    ymid = 0.0\n",
    "    \n",
    "    maxcount = 10000\n",
    "    count = 0\n",
    "    \n",
    "    flag = 1\n",
    "    \n",
    "    while(flag):\n",
    "        xmid = 0.5*(xmin + xmax) #midpoint\n",
    "        ymid = f(xmid)\n",
    "        \n",
    "        if (np.fabs(ymid) < tol): #check if this is the root\n",
    "            flag = 0\n",
    "        else:\n",
    "            #this is not a root, we can continue the search\n",
    "            if (f(xmin)*f(xmid) > 0):\n",
    "                xmin = xmid\n",
    "            else:\n",
    "                xmax = xmid\n",
    "        print(xmin, f(xmin), xmax, f(xmax))\n",
    "        \n",
    "        #start counting the number of iterations\n",
    "        count += 1\n",
    "        \n",
    "        #stop iteration if the count is too high\n",
    "        if (count >= maxcount):\n",
    "            print('Exceeded maximum number of iterations = ', count)\n",
    "            s = 'Min bracket f(%f) = %f' % (xmin, f(xmin))\n",
    "            print(s)\n",
    "            s = 'Max bracket f(%f) = %f' % (xmax, f(xmax))\n",
    "            print(s)\n",
    "            s = 'Mid bracket f(%f) = %f' % (xmid, f(xmid))\n",
    "            print(s)\n",
    "            raise StopIteration('Stopping iterations after ', i)\n",
    "    \n",
    "    return xmid"
   ]
  },
  {
   "cell_type": "markdown",
   "metadata": {},
   "source": [
    "Run the functions we defined and print out the roots"
   ]
  },
  {
   "cell_type": "markdown",
   "metadata": {},
   "source": [
    "#### Root 1 "
   ]
  },
  {
   "cell_type": "code",
   "execution_count": null,
   "metadata": {},
   "outputs": [],
   "source": [
    "xmin = 0.5\n",
    "xmax = 1.45\n",
    "tol = 1.0e-6\n",
    "\n",
    "print(xmin, function(xmin))\n",
    "print(xmax, function(xmax))\n",
    "\n",
    "x_root = bisection_root_finding(function, xmin, xmax, tol)\n",
    "y_root = function(x_root)\n",
    "\n",
    "s = 'Root found with y(%f) = %f' % (x_root, y_root)\n",
    "print(s)"
   ]
  },
  {
   "cell_type": "markdown",
   "metadata": {},
   "source": [
    "#### Root 2"
   ]
  },
  {
   "cell_type": "code",
   "execution_count": null,
   "metadata": {},
   "outputs": [],
   "source": [
    "xmin = 1.55\n",
    "xmax = 2.5\n",
    "tol = 1.0e-6\n",
    "\n",
    "print(xmin, function(xmin))\n",
    "print(xmax, function(xmax))\n",
    "\n",
    "x_root = bisection_root_finding(function, xmin, xmax, tol)\n",
    "y_root = function(x_root)\n",
    "\n",
    "s = 'Root found with y(%f) = %f' % (x_root, y_root)\n",
    "print(s)"
   ]
  },
  {
   "cell_type": "markdown",
   "metadata": {},
   "source": [
    "We plot the function and the roots"
   ]
  },
  {
   "cell_type": "code",
   "execution_count": null,
   "metadata": {},
   "outputs": [],
   "source": [
    "x = np.linspace(0, 3, 1000)\n",
    "y = function(x)\n",
    "\n",
    "plt.xlim(0.0,3)\n",
    "plt.ylim(-0.5,2.1)\n",
    "\n",
    "plt.plot(x, y, label = 'f(x)')\n",
    "plt.axhline(y=0, color='k', alpha = 0.7) # z = 0\n",
    "\n",
    "#plotting the brackets (initial guesses)\n",
    "\n",
    "plt.plot(0.5,0.0,'o', color = 'yellow', markeredgecolor = 'k', label = 'Initial guesses')\n",
    "plt.plot(1.55,0.0,'o', color = 'yellow', markeredgecolor = 'k')\n",
    "plt.plot(1.45,0.0,'o', color = 'yellow', markeredgecolor = 'k')\n",
    "plt.plot(2.5,0.0,'o', color = 'yellow', markeredgecolor = 'k')\n",
    "\n",
    "#plotting roots\n",
    "\n",
    "plt.plot(1.040869,0,'o', color = 'red', markeredgecolor = 'k', label = 'Root 1')\n",
    "plt.plot(1.969032,0,'o', color = 'green', markeredgecolor = 'k', label = 'Root 2')\n",
    "\n",
    "#legend and labels\n",
    "\n",
    "plt.legend()\n",
    "plt.xlabel('x')\n",
    "plt.ylabel('f(x)')\n",
    "plt.title('Bisection Root Finding')"
   ]
  }
 ],
 "metadata": {
  "kernelspec": {
   "display_name": "Python 3",
   "language": "python",
   "name": "python3"
  },
  "language_info": {
   "codemirror_mode": {
    "name": "ipython",
    "version": 3
   },
   "file_extension": ".py",
   "mimetype": "text/x-python",
   "name": "python",
   "nbconvert_exporter": "python",
   "pygments_lexer": "ipython3",
   "version": "3.4.6"
  }
 },
 "nbformat": 4,
 "nbformat_minor": 2
}
